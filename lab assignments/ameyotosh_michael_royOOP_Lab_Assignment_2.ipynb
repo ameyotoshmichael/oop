{
  "nbformat": 4,
  "nbformat_minor": 0,
  "metadata": {
    "colab": {
      "name": "ameyotosh michael royOOP_Lab_Assignment_2.ipynb",
      "provenance": [],
      "collapsed_sections": [],
      "include_colab_link": true
    },
    "kernelspec": {
      "name": "python3",
      "display_name": "Python 3"
    },
    "language_info": {
      "name": "python"
    }
  },
  "cells": [
    {
      "cell_type": "markdown",
      "metadata": {
        "id": "view-in-github",
        "colab_type": "text"
      },
      "source": [
        "<a href=\"https://colab.research.google.com/github/ameyotoshmichael/oop/blob/main/lab%20assignments/ameyotosh_michael_royOOP_Lab_Assignment_2.ipynb\" target=\"_parent\"><img src=\"https://colab.research.google.com/assets/colab-badge.svg\" alt=\"Open In Colab\"/></a>"
      ]
    },
    {
      "cell_type": "code",
      "metadata": {
        "colab": {
          "base_uri": "https://localhost:8080/"
        },
        "id": "3EL1grS5bXcy",
        "outputId": "fc15bf95-786b-4c30-8f79-d9b4ec932fd3"
      },
      "source": [
        "# Problem 1\n",
        "import numpy as np\n",
        "\n",
        "class circle:\n",
        "  def __init__(self, radius):\n",
        "    self.radius = radius\n",
        "  \n",
        "  def calc_perimeter(self):\n",
        "    perimeter = 2*np.pi*self.radius\n",
        "    return perimeter\n",
        "\n",
        "  def calc_area(self):\n",
        "    area = np.pi*(self.radius**2)\n",
        "    return area\n",
        "\n",
        "c = circle(4)\n",
        "perimeter = c.calc_perimeter()\n",
        "area = c.calc_area()\n",
        "print(\"Area: {}\\nPerimeter: {}\".format(area, perimeter))"
      ],
      "execution_count": null,
      "outputs": [
        {
          "output_type": "stream",
          "name": "stdout",
          "text": [
            "Area: 50.26548245743669\n",
            "Perimeter: 25.132741228718345\n"
          ]
        }
      ]
    },
    {
      "cell_type": "code",
      "metadata": {
        "id": "PTovInF0dTsV",
        "colab": {
          "base_uri": "https://localhost:8080/"
        },
        "outputId": "6ff1a699-c497-43f1-bb94-5c8273e54f39"
      },
      "source": [
        "# Problem 2\n",
        "\n",
        "class teacher:\n",
        "  def __init__(self, name, EMP_ID, branch, salary):\n",
        "    self.name = name\n",
        "    self.salary = salary\n",
        "    self.EMP_ID = EMP_ID\n",
        "    self.branch = branch\n",
        "\n",
        "  def display(self):\n",
        "    print('Name: {}\\nBranch: {}\\nEmployee ID: {}\\nSalary: {}\\n'.format(self.name.title(), self.branch.upper(), self.EMP_ID, self.salary))\n",
        "\n",
        "\n",
        "def take_info():\n",
        "  employee_list = []\n",
        "  print('Please enter name,emp id, branch, salary respectively and seperate using commas')\n",
        "  for i in range(5):\n",
        "    info = input('Details of employee {}: '.format(i+1))\n",
        "    info_list = info.split(',')\n",
        "    employee = teacher(info_list[0], info_list[1], info_list[2], int(info_list[3]))\n",
        "    employee_list.append(employee)\n",
        "\n",
        "  return employee_list\n",
        "\n",
        "def display_info(employee_list):\n",
        "  i = 1\n",
        "  for employee in employee_list:\n",
        "    print(\"Employee %d\" % i)\n",
        "    employee.display()\n",
        "    print()\n",
        "    i += 1\n",
        "\n",
        "emp_list = take_info()\n",
        "print()\n",
        "display_info(emp_list)\n"
      ],
      "execution_count": null,
      "outputs": [
        {
          "output_type": "stream",
          "name": "stdout",
          "text": [
            "Please enter name,emp id, branch, salary respectively and seperate using commas\n",
            "Details of employee 1: a,1234,cse,55555\n",
            "Details of employee 2: b,5678,cse,44444\n",
            "Details of employee 3: c,4321,cse,33333\n",
            "Details of employee 4: d,8765,cse,22222\n",
            "Details of employee 5: e,9876,cse,66666\n",
            "\n",
            "Employee 1\n",
            "Name: A\n",
            "Branch: CSE\n",
            "Employee ID: 1234\n",
            "Salary: 55555\n",
            "\n",
            "\n",
            "Employee 2\n",
            "Name: B\n",
            "Branch: CSE\n",
            "Employee ID: 5678\n",
            "Salary: 44444\n",
            "\n",
            "\n",
            "Employee 3\n",
            "Name: C\n",
            "Branch: CSE\n",
            "Employee ID: 4321\n",
            "Salary: 33333\n",
            "\n",
            "\n",
            "Employee 4\n",
            "Name: D\n",
            "Branch: CSE\n",
            "Employee ID: 8765\n",
            "Salary: 22222\n",
            "\n",
            "\n",
            "Employee 5\n",
            "Name: E\n",
            "Branch: CSE\n",
            "Employee ID: 9876\n",
            "Salary: 66666\n",
            "\n",
            "\n"
          ]
        }
      ]
    },
    {
      "cell_type": "code",
      "metadata": {
        "colab": {
          "base_uri": "https://localhost:8080/"
        },
        "id": "3883e9XuqKNO",
        "outputId": "2d1d1f9c-c2e1-4fae-bf32-1542a1a1965a"
      },
      "source": [
        "# Problem 3\n",
        "\n",
        "class bank_account:\n",
        "  def __init__(self, name, account_number, amount):\n",
        "    self.name = name\n",
        "    self.account_number = account_number\n",
        "    self.amount = amount\n",
        "\n",
        "  def deposit(self, dep_amount):\n",
        "    self.amount += dep_amount\n",
        "    print(\"%d rupees deposited succesfully.\" % dep_amount)\n",
        "  \n",
        "  def withdraw(self, with_amount):\n",
        "    if self.amount - with_amount >= 0:\n",
        "      self.amount -= with_amount\n",
        "      print(\"%d rupees withdrawn succesfully.\" % with_amount)\n",
        "    else:\n",
        "      print(\"Sufficient amount not present in the account.\")\n",
        "\n",
        "  def check_balance(self):\n",
        "    print(\"The balance in the account is %d rupees.\" % self.amount)\n",
        "\n",
        "  def disp_details(self):\n",
        "    print('Name: {}\\nAccount No: {}\\nAmount: {}'.format(self.name.title(), self.account_number, self.amount))\n",
        "\n",
        "def take_info():\n",
        "  print('Please enter name,account no, amount respectively and seperate using commas')\n",
        "  info = input('Enter the details of account holder: ')\n",
        "  info_list = info.split(',')\n",
        "\n",
        "  return bank_account(info_list[0], info_list[1], int(info_list[2]))\n",
        "\n",
        "account_holder = take_info()\n",
        "print()\n",
        "account_holder.deposit(13000)\n",
        "account_holder.withdraw(16000)\n",
        "account_holder.check_balance()\n",
        "print()\n",
        "account_holder.disp_details()\n",
        "  "
      ],
      "execution_count": null,
      "outputs": [
        {
          "output_type": "stream",
          "name": "stdout",
          "text": [
            "Please enter name,account no, amount respectively and seperate using commas\n",
            "Enter the details of account holder: roy, 12345, 6789\n",
            "\n",
            "13000 rupees deposited succesfully.\n",
            "16000 rupees withdrawn succesfully.\n",
            "The balance in the account is 3789 rupees.\n",
            "\n",
            "Name: Roy\n",
            "Account No:  12345\n",
            "Amount: 3789\n"
          ]
        }
      ]
    },
    {
      "cell_type": "code",
      "metadata": {
        "colab": {
          "base_uri": "https://localhost:8080/"
        },
        "id": "UAjECUxfnC7i",
        "outputId": "5dfc421a-1a05-4cd7-f049-56438f15ddfa"
      },
      "source": [
        "# Problem 4\n",
        "\n",
        "class student:\n",
        "  def __init__(self, name, usn, marks):\n",
        "    self.name = name\n",
        "    self.usn = usn\n",
        "    self.marks = marks\n",
        "\n",
        "  def display_details(self):\n",
        "    print('Name: {}\\nUSN: {}'.format(self.name.title(), self.usn))\n",
        "    print('Marks:')\n",
        "    i = 1\n",
        "    for mark in self.marks:\n",
        "      print('Subject {}: {}'.format(i,mark))\n",
        "      i += 1\n",
        "\n",
        "def take_info():\n",
        "  print('Please enter name, usn, marks respectively and seperate using commas, seperate marks using colon')\n",
        "  info = input('Enter the student details: ')\n",
        "  info_list = info.split(',')\n",
        "  marks = [float(x) for x in info_list[2].split(';')]\n",
        "\n",
        "  return student(info_list[0], info_list[1], marks)\n",
        "\n",
        "s = take_info()\n",
        "s.display_details()"
      ],
      "execution_count": null,
      "outputs": [
        {
          "output_type": "stream",
          "name": "stdout",
          "text": [
            "Please enter name, usn, marks respectively and seperate using commas, seperate marks using colon\n",
            "Enter the student details: abcd, 20bcs010,8,7,8\n",
            "Name: Abcd\n",
            "USN:  20bcs010\n",
            "Marks:\n",
            "Subject 1: 8.0\n"
          ]
        }
      ]
    },
    {
      "cell_type": "code",
      "metadata": {
        "colab": {
          "base_uri": "https://localhost:8080/"
        },
        "id": "P1lSvT5syCCj",
        "outputId": "13ffe52d-423f-4a1b-f1f4-62680171c1c8"
      },
      "source": [
        "# Problem 6\n",
        "\n",
        "class time:\n",
        "  def __init__(self,hour,minute,second):\n",
        "    self.hour = hour\n",
        "    self.minute = minute\n",
        "    self.second = second\n",
        "\n",
        "  def disp_time(self):\n",
        "    print('Time is %2.0d:%2.0d:%2.0d' % (self.hour,self.minute,self.second))\n",
        "\n",
        "class time_default:\n",
        "  def __init__(self):\n",
        "    self.hour = 0\n",
        "    self.minute = 0\n",
        "    self.second = 0\n",
        "\n",
        "  def disp_time(self):\n",
        "    print('Time is %2.0d:%2.0d:%2.0d' % (self.hour,self.minute,self.second))\n",
        "\n",
        "t = time(13,23,12)\n",
        "t.disp_time()\n",
        "t_d = time_default()\n",
        "t_d.disp_time()"
      ],
      "execution_count": null,
      "outputs": [
        {
          "output_type": "stream",
          "name": "stdout",
          "text": [
            "Time is 13:23:12\n",
            "Time is  0: 0: 0\n"
          ]
        }
      ]
    },
    {
      "cell_type": "code",
      "metadata": {
        "colab": {
          "base_uri": "https://localhost:8080/"
        },
        "id": "MywFL5bJiizs",
        "outputId": "7ede18e1-aa48-4272-81fc-4fbcc03687e6"
      },
      "source": [
        "# Problem 7\n",
        "\n",
        "class students:\n",
        "  class student:\n",
        "    def __init__(self, name, age, rollno):\n",
        "      self.name = name\n",
        "      self.age = age\n",
        "      self.rollno = rollno\n",
        "  s1 = student('X', 25, 88)\n",
        "  s2 = student('Y', 27, 89)\n",
        "\n",
        "  def compare_age(self):\n",
        "    if self.s1.age != self.s2.age:\n",
        "      print(f'{self.s1.name} and {self.s2.name} are not of same age.')\n",
        "    else:\n",
        "      print(f'{self.s1.name} and {self.s2.name} are of same age.')\n",
        "\n",
        "\n",
        "s = students()\n",
        "s.compare_age()"
      ],
      "execution_count": 2,
      "outputs": [
        {
          "output_type": "stream",
          "name": "stdout",
          "text": [
            "X and Y are not of same age.\n"
          ]
        }
      ]
    },
    {
      "cell_type": "code",
      "metadata": {
        "colab": {
          "base_uri": "https://localhost:8080/"
        },
        "id": "j3PAR_asSmwR",
        "outputId": "315d9daf-ac1f-4a11-f872-5b909ec39b2d"
      },
      "source": [
        "# Problem 8\n",
        "\n",
        "class student:\n",
        "  semester = 3\n",
        "  institute_name = 'IIIT Dharwad'\n",
        "\n",
        "  def __init__(self, name, usn):\n",
        "    self.name = name\n",
        "    self.usn = usn\n",
        "\n",
        "  def student_details(self):\n",
        "    print('Name: {}\\nUSN: {}'.format(self.name.title(), self.usn))\n",
        "\n",
        "  @classmethod\n",
        "  def institute_details(cls):\n",
        "    print('Institute Name: {}\\nSemester: {}'.format(cls.institute_name, cls.semester))\n",
        "\n",
        "  @staticmethod\n",
        "  def class_details():\n",
        "    print('''This class has two class variables and two instance variables.\n",
        "It also contains three methods: instance, class and static methods.\n",
        "The instance method prints out instance variables.\n",
        "The class method prints out the class variables.\n",
        "This static method gives out information regarding the class student''')\n",
        "    \n",
        "s = student('roy', '20BCS010')\n",
        "print('student_details is a instance method:\\n')\n",
        "s.student_details()\n",
        "print('\\ninstitute_details is a class method:\\n')\n",
        "s.institute_details()\n",
        "print('\\nclass_details is a static method:\\n')\n",
        "s.class_details()"
      ],
      "execution_count": null,
      "outputs": [
        {
          "output_type": "stream",
          "name": "stdout",
          "text": [
            "student_details is a instance method:\n",
            "\n",
            "Name: Roy\n",
            "USN: 20BCS010\n",
            "\n",
            "institute_details is a class method:\n",
            "\n",
            "Institute Name: IIIT Dharwad\n",
            "Semester: 3\n",
            "\n",
            "class_details is a static method:\n",
            "\n",
            "This class has two class variables and two instance variables.\n",
            "It also contains three methods: instance, class and static methods.\n",
            "The instance method prints out instance variables.\n",
            "The class method prints out the class variables.\n",
            "This static method gives out information regarding the class student\n"
          ]
        }
      ]
    }
  ]
}