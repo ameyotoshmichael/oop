{
  "nbformat": 4,
  "nbformat_minor": 0,
  "metadata": {
    "colab": {
      "name": "OOP-Lab_Assignment-5.ipynb",
      "provenance": [],
      "collapsed_sections": []
    },
    "kernelspec": {
      "name": "python3",
      "display_name": "Python 3"
    },
    "language_info": {
      "name": "python"
    }
  },
  "cells": [
    {
      "cell_type": "code",
      "metadata": {
        "colab": {
          "base_uri": "https://localhost:8080/"
        },
        "id": "yAaYCDed68Iy",
        "outputId": "b8c9e476-9f9c-438b-abc8-7ecbda48bac6"
      },
      "source": [
        "##Question 1\n",
        "\n",
        "from abc import ABC,abstractmethod\n",
        "\n",
        "class Shape:\n",
        "\n",
        "      def __init__(self,shape):\n",
        "           self.shape=shape\n",
        "      \n",
        "      @abstractmethod\n",
        "      def area(self):\n",
        "        pass\n",
        "\n",
        "class Rectangle(Shape):\n",
        "\n",
        "  def __init__(self,length,breadth):\n",
        "         Shape.__init__(self,'Rectangle')\n",
        "         self.length = length\n",
        "         self.breadth = breadth\n",
        "      \n",
        "\n",
        "  def area(self):\n",
        "        return self.length*self.breadth\n",
        "\n",
        "\n",
        "class Circle(Shape):\n",
        "      \n",
        "  pi = 3.14\n",
        "\n",
        "  def __init__(self,radius):\n",
        "         Shape.__init__(self,'Circle')\n",
        "         self.radius = radius\n",
        "\n",
        "  def area(self):\n",
        "         return round(Circle.pi*(self.radius**2),2)\n",
        "\n",
        "\n",
        "\n",
        "\n",
        "\n",
        "circle = Circle(5)\n",
        "\n",
        "\n",
        "circle.area()\n",
        "\n",
        "\n",
        "\n"
      ],
      "execution_count": 28,
      "outputs": [
        {
          "output_type": "execute_result",
          "data": {
            "text/plain": [
              "78.5"
            ]
          },
          "metadata": {},
          "execution_count": 28
        }
      ]
    },
    {
      "cell_type": "code",
      "metadata": {
        "colab": {
          "base_uri": "https://localhost:8080/"
        },
        "id": "kgCiPy1ksZEV",
        "outputId": "d8666d3f-3daa-41dd-a17b-cdc912454cd5"
      },
      "source": [
        "##Question 2\n",
        "\n",
        "from abc import ABC,abstractmethod\n",
        "\n",
        "class Travel:\n",
        "\n",
        "      def __init__(self):\n",
        "          self.__distance=77\n",
        "          self.__train_psgrs=4\n",
        "          self.__bus_psgrs=4\n",
        "          self.__pptrain=60\n",
        "          self.__ppbus=100\n",
        "          self.__mode1=\"Train\"\n",
        "          self.__mode2=\"Bus\"\n",
        "\n",
        "    \n",
        "       \n",
        "\n",
        "class Train(Travel):\n",
        "\n",
        "  def __init__(self):\n",
        "         super(Train,self).__init__() \n",
        "\n",
        "\n",
        "  def cost_train(self):\n",
        "         \n",
        "         return (self._Travel__pptrain*self._Travel__train_psgrs)\n",
        "\n",
        "\n",
        "class Bus(Travel):\n",
        "\n",
        "  def __init__(self):\n",
        "         super(Bus,self).__init__()\n",
        "\n",
        "  def cost_bus(self):\n",
        "         return (self._Travel__mode2)\n",
        "         return (self._Travel__ppbus)*(self._Travel__train_psgrs)\n",
        "\n",
        "if __name__=='__main__':\n",
        "\n",
        "  c = Train()\n",
        "  print(c.cost_train())\n"
      ],
      "execution_count": 29,
      "outputs": [
        {
          "output_type": "stream",
          "name": "stdout",
          "text": [
            "240\n"
          ]
        }
      ]
    },
    {
      "cell_type": "code",
      "metadata": {
        "colab": {
          "base_uri": "https://localhost:8080/"
        },
        "id": "087uF54uhuMn",
        "outputId": "6bbc1ae0-27ee-496b-dd35-b54fd3bffb36"
      },
      "source": [
        "##Question 3\n",
        "\n",
        "class Car :\n",
        "    def __init__(self, model_no) :\n",
        "        self.model_no = model_no\n",
        "class Main :\n",
        "\n",
        "    def swap(self, c1,  c2) :\n",
        "        temp = c1.model_no\n",
        "        c1.model_no = c2.model_no\n",
        "        c2.model_no = temp\n",
        "\n",
        "    def main(self, args) :\n",
        "        c1 = Car(1)\n",
        "        c2 = Car(2)\n",
        "        self.swap(c1, c2)\n",
        "        print(\"c1.model_no = \" + str(c1.model_no))\n",
        "        print(\"c2.model_no = \" + str(c2.model_no))\n",
        "\n",
        "\n",
        "if __name__==\"__main__\":\n",
        "    Main().main([])"
      ],
      "execution_count": 31,
      "outputs": [
        {
          "output_type": "stream",
          "name": "stdout",
          "text": [
            "c1.model_no = 2\n",
            "c2.model_no = 1\n"
          ]
        }
      ]
    }
  ]
}