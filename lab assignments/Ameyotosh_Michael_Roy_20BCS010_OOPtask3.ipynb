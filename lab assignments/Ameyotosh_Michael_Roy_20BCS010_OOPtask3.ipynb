{
  "nbformat": 4,
  "nbformat_minor": 0,
  "metadata": {
    "colab": {
      "name": "Ameyotosh_Michael_Roy_20BCS010_OOPtask3.ipynb",
      "provenance": [],
      "authorship_tag": "ABX9TyM9+B9P2yPsvMKNHlf8Hyrr",
      "include_colab_link": true
    },
    "kernelspec": {
      "name": "python3",
      "display_name": "Python 3"
    },
    "language_info": {
      "name": "python"
    }
  },
  "cells": [
    {
      "cell_type": "markdown",
      "metadata": {
        "id": "view-in-github",
        "colab_type": "text"
      },
      "source": [
        "<a href=\"https://colab.research.google.com/github/ameyotoshmichael/oop/blob/main/lab%20assignments/Ameyotosh_Michael_Roy_20BCS010_OOPtask3.ipynb\" target=\"_parent\"><img src=\"https://colab.research.google.com/assets/colab-badge.svg\" alt=\"Open In Colab\"/></a>"
      ]
    },
    {
      "cell_type": "code",
      "metadata": {
        "id": "4AuukHcMgisr"
      },
      "source": [
        "class person:\n",
        "  def __init__(self):\n",
        "    self.name = input(\"Name: \")\n",
        "    self.age = input(\"Age: \")\n",
        "    self.gender = input(\"Gender: \")\n",
        "\n",
        "  def display(self):\n",
        "    print(\"\\n\\nName: \",self.name)\n",
        "    print(\"Age: \",self.age)\n",
        "    print(\"Gender: \",self.gender)\n",
        "\n",
        "class marks:\n",
        "  def __init__(self):\n",
        "    self.stuClass = input(\"Class: \")\n",
        "    print(\"Enter the marks of the respective subjects\")\n",
        "    self.sub1 = int(input(\"sub1: \"))\n",
        "    self.sub2 = int(input(\"sub2: \"))\n",
        "    self.sub3 = int(input(\"sub3 \"))\n",
        "    self.sub4 = int(input(\"sub4 \"))\n",
        "\n",
        "  def display(self):\n",
        "\n",
        "    print(\"Study in: \",self.stuClass)\n",
        "    print(\"Total Marks: \", self.literature + self.math + self.biology + self.physics)\n",
        "\n",
        "class student(person, marks):\n",
        "  def __init__(self):\n",
        "    person.__init__(self)\n",
        "    marks.__init__(self) \n",
        "\n",
        "  def result(self):\n",
        "    person.display(self)\n",
        "    marks.display(self)\n",
        "\n",
        "stu1 = student()\n",
        "stu2 = student()\n",
        "\n",
        "stu1.result()\n",
        "stu2.result()"
      ],
      "execution_count": null,
      "outputs": []
    },
    {
      "cell_type": "code",
      "metadata": {
        "id": "fWoiZIjBDbGk"
      },
      "source": [
        "class Vehicle:\n",
        "  def __init__(self, name, mileage, capacity):\n",
        "    self.name = name\n",
        "    self.mileage = mileage\n",
        "    self.capacity = capacity\n",
        "    self.total_fare = self.bus_fare()\n",
        "    \n",
        "  def bus_fare(self):\n",
        "    return 100*int(self.capacity)\n",
        "\n",
        "class Bus(Vehicle):\n",
        "  def __init__(self, name, mileage, capacity):\n",
        "    Vehicle.__init__(self, name, mileage, capacity)\n",
        "    self.total_fare = 1.1*Bus.bus_fare(self) \n",
        "\n",
        "\n",
        "def take_info():\n",
        "  print('Enter vehicle,mileage,capacity')\n",
        "  info = input()\n",
        "  info_list = info.split(',')\n",
        "  if info_list[0].lower() == 'bus':\n",
        "    return Bus(info_list[0], info_list[1], info_list[2])\n",
        "  else:\n",
        "    return Vehicle(info_list[0], info_list[1], info_list[2])\n",
        "\n",
        "v1 = take_info() #vehicle,5km/lit,20\n",
        "v2 = take_info()  #bus,4km/lit,20\n",
        "\n",
        "print(\"Vehicle Fare:\" + str(v1.total_fare))    \n",
        "print('Bus Fare:' + str(v2.total_fare))"
      ],
      "execution_count": null,
      "outputs": []
    }
  ]
}