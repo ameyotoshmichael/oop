{
  "nbformat": 4,
  "nbformat_minor": 0,
  "metadata": {
    "colab": {
      "name": "Ameyotosh_Michael_Roy_20BCS010_OOPtask3.ipynb",
      "provenance": [],
      "authorship_tag": "ABX9TyPRs00nb/iV4aJycfdVT03W",
      "include_colab_link": true
    },
    "kernelspec": {
      "name": "python3",
      "display_name": "Python 3"
    },
    "language_info": {
      "name": "python"
    }
  },
  "cells": [
    {
      "cell_type": "markdown",
      "metadata": {
        "id": "view-in-github",
        "colab_type": "text"
      },
      "source": [
        "<a href=\"https://colab.research.google.com/github/ameyotoshmichael/oop/blob/main/Ameyotosh_Michael_Roy_20BCS010_OOPtask3.ipynb\" target=\"_parent\"><img src=\"https://colab.research.google.com/assets/colab-badge.svg\" alt=\"Open In Colab\"/></a>"
      ]
    },
    {
      "cell_type": "code",
      "metadata": {
        "id": "4AuukHcMgisr"
      },
      "source": [
        "class person:\n",
        "  def __init__(self):\n",
        "    self.name = input(\"Name: \")\n",
        "    self.age = input(\"Age: \")\n",
        "    self.gender = input(\"Gender: \")\n",
        "\n",
        "  def display(self):\n",
        "    print(\"\\n\\nName: \",self.name)\n",
        "    print(\"Age: \",self.age)\n",
        "    print(\"Gender: \",self.gender)\n",
        "\n",
        "class marks:\n",
        "  def __init__(self):\n",
        "    self.stuClass = input(\"Class: \")\n",
        "    print(\"Enter the marks of the respective subjects\")\n",
        "    self.sub1 = int(input(\"sub1: \"))\n",
        "    self.sub2 = int(input(\"sub2: \"))\n",
        "    self.sub3 = int(input(\"sub3 \"))\n",
        "    self.sub4 = int(input(\"sub4 \"))\n",
        "\n",
        "  def display(self):\n",
        "\n",
        "    print(\"Study in: \",self.stuClass)\n",
        "    print(\"Total Marks: \", self.literature + self.math + self.biology + self.physics)\n",
        "\n",
        "class student(person, marks):\n",
        "  def __init__(self):\n",
        "    person.__init__(self)\n",
        "    marks.__init__(self) \n",
        "\n",
        "  def result(self):\n",
        "    person.display(self)\n",
        "    marks.display(self)\n",
        "\n",
        "stu1 = student()\n",
        "stu2 = student()\n",
        "\n",
        "stu1.result()\n",
        "stu2.result()"
      ],
      "execution_count": null,
      "outputs": []
    }
  ]
}