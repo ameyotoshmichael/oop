{
  "nbformat": 4,
  "nbformat_minor": 0,
  "metadata": {
    "colab": {
      "name": "Ameyotosh_Michael_Roy_OOP_Task_4.ipynb",
      "provenance": [],
      "collapsed_sections": []
    },
    "kernelspec": {
      "name": "python3",
      "display_name": "Python 3"
    },
    "language_info": {
      "name": "python"
    }
  },
  "cells": [
    {
      "cell_type": "code",
      "metadata": {
        "colab": {
          "base_uri": "https://localhost:8080/"
        },
        "id": "1-C8tN9Bku2e",
        "outputId": "0ec8d2b9-3ad2-49f0-a3a2-912a08ab0522"
      },
      "source": [
        "class rectangle():\n",
        "  \n",
        "    def __init__(self, rectbreadth, rectlength):\n",
        "        self.rectbreadth = rectbreadth\n",
        "        self.rectlength = rectlength\n",
        "    \n",
        "    def areaofRect(self):\n",
        "        return self.rectbreadth*self.rectlength\n",
        "\n",
        "rectlength = 31\n",
        "rectbreadth = 19\n",
        "\n",
        "\n",
        "rectObj = rectangle(rectlength, rectbreadth)\n",
        "print(\"The area of the rectangle with the given sides\",\n",
        "      rectlength, ',', rectbreadth, '=', rectObj.areaofRect())"
      ],
      "execution_count": 1,
      "outputs": [
        {
          "output_type": "stream",
          "name": "stdout",
          "text": [
            "The area of the rectangle with the given sides 31 , 19 = 589\n"
          ]
        }
      ]
    },
    {
      "cell_type": "code",
      "metadata": {
        "colab": {
          "base_uri": "https://localhost:8080/"
        },
        "id": "nOiyUX_Ck0q2",
        "outputId": "d1e40ba1-1f6c-4ef7-d0e8-edc0d0a1733b"
      },
      "source": [
        "\n",
        "class PriorityQueue(object):\n",
        "    def __init__(self):\n",
        "        self.queue = []\n",
        "  \n",
        "    def __str__(self):\n",
        "        return ' '.join([str(i) for i in self.queue])\n",
        "  \n",
        "    \n",
        "    def isEmpty(self):\n",
        "        return len(self.queue) == 0\n",
        "  \n",
        "    \n",
        "    def insert(self, data):\n",
        "        self.queue.append(data)\n",
        "  \n",
        "    \n",
        "    def delete(self):\n",
        "        try:\n",
        "            max = 0\n",
        "            for i in range(len(self.queue)):\n",
        "                if self.queue[i] > self.queue[max]:\n",
        "                    max = i\n",
        "            item = self.queue[max]\n",
        "            del self.queue[max]\n",
        "            return item\n",
        "        except IndexError:\n",
        "            print()\n",
        "            exit()\n",
        "  \n",
        "if __name__ == '__main__':\n",
        "    myQueue = PriorityQueue()\n",
        "    myQueue.insert(16)\n",
        "    myQueue.insert(11)\n",
        "    myQueue.insert(8)\n",
        "    myQueue.insert(6)\n",
        "    print(myQueue)            \n",
        "    while not myQueue.isEmpty():\n",
        "        print(myQueue.delete()) "
      ],
      "execution_count": 2,
      "outputs": [
        {
          "output_type": "stream",
          "name": "stdout",
          "text": [
            "16 11 8 6\n",
            "16\n",
            "11\n",
            "8\n",
            "6\n"
          ]
        }
      ]
    },
    {
      "cell_type": "code",
      "metadata": {
        "colab": {
          "base_uri": "https://localhost:8080/"
        },
        "id": "T-zFE8S2k48l",
        "outputId": "4f5074de-92cb-42f4-cbd1-606d1c5f0414"
      },
      "source": [
        "class Node:\n",
        "   def __init__(self, value):\n",
        "      self.value = value\n",
        "      self.next = None\n",
        " \n",
        "class Stack:\n",
        "    \n",
        "   \n",
        "   def __init__(self):\n",
        "      self.head = Node(\"head\")\n",
        "      self.size = 0\n",
        " \n",
        "   \n",
        "   def __str__(self):\n",
        "      cur = self.head.next\n",
        "      out = \"\"\n",
        "      while cur:\n",
        "         out += str(cur.value) + \"->\"\n",
        "         cur = cur.next\n",
        "      return out[:-3]  \n",
        " \n",
        "   \n",
        "   def getSize(self):\n",
        "      return self.size\n",
        "    \n",
        "   \n",
        "   def isEmpty(self):\n",
        "      return self.size == 0\n",
        "    \n",
        "   \n",
        "   def peek(self):\n",
        "       \n",
        "      \n",
        "      \n",
        "      if self.isEmpty():\n",
        "         raise Exception(\"Peeking from an empty stack\")\n",
        "      return self.head.next.value\n",
        " \n",
        "   \n",
        "   def push(self, value):\n",
        "      node = Node(value)\n",
        "      node.next = self.head.next\n",
        "      self.head.next = node\n",
        "      self.size += 1\n",
        "      \n",
        "   \n",
        "   def pop(self):\n",
        "      if self.isEmpty():\n",
        "         raise Exception(\"Popping from an empty stack\")\n",
        "      remove = self.head.next\n",
        "      self.head.next = self.head.next.next\n",
        "      self.size -= 1\n",
        "      return remove.value\n",
        " \n",
        "\n",
        "if __name__ == \"__main__\":\n",
        "   stack = Stack()\n",
        "   for i in range(1, 11):\n",
        "      stack.push(i)\n",
        "   print(f\"Stack: {stack}\")\n",
        " \n",
        "   for _ in range(1, 6):\n",
        "      remove = stack.pop()\n",
        "      print(f\"Pop: {remove}\")\n",
        "   print(f\"Stack: {stack}\")"
      ],
      "execution_count": 3,
      "outputs": [
        {
          "output_type": "stream",
          "name": "stdout",
          "text": [
            "Stack: 10->9->8->7->6->5->4->3->2->\n",
            "Pop: 10\n",
            "Pop: 9\n",
            "Pop: 8\n",
            "Pop: 7\n",
            "Pop: 6\n",
            "Stack: 5->4->3->2->\n"
          ]
        }
      ]
    }
  ]
}