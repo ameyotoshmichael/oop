{
  "nbformat": 4,
  "nbformat_minor": 0,
  "metadata": {
    "colab": {
      "name": "OOP_Lab_Assignment_2.ipynb",
      "provenance": [],
      "authorship_tag": "ABX9TyMD0//G01ZwS5giaCiCGu0r",
      "include_colab_link": true
    },
    "kernelspec": {
      "name": "python3",
      "display_name": "Python 3"
    },
    "language_info": {
      "name": "python"
    }
  },
  "cells": [
    {
      "cell_type": "markdown",
      "metadata": {
        "id": "view-in-github",
        "colab_type": "text"
      },
      "source": [
        "<a href=\"https://colab.research.google.com/github/Yashnikam-10/OOP-LAB_ASSIGNMENTS/blob/main/OOP_Lab_Assignment_2.ipynb\" target=\"_parent\"><img src=\"https://colab.research.google.com/assets/colab-badge.svg\" alt=\"Open In Colab\"/></a>"
      ]
    },
    {
      "cell_type": "code",
      "metadata": {
        "colab": {
          "base_uri": "https://localhost:8080/"
        },
        "id": "3EL1grS5bXcy",
        "outputId": "fc15bf95-786b-4c30-8f79-d9b4ec932fd3"
      },
      "source": [
        "# Problem 1\n",
        "import numpy as np\n",
        "\n",
        "class circle:\n",
        "  def __init__(self, radius):\n",
        "    self.radius = radius\n",
        "  \n",
        "  def calc_perimeter(self):\n",
        "    perimeter = 2*np.pi*self.radius\n",
        "    return perimeter\n",
        "\n",
        "  def calc_area(self):\n",
        "    area = np.pi*(self.radius**2)\n",
        "    return area\n",
        "\n",
        "c = circle(4)\n",
        "perimeter = c.calc_perimeter()\n",
        "area = c.calc_area()\n",
        "print(\"Area: {}\\nPerimeter: {}\".format(area, perimeter))"
      ],
      "execution_count": null,
      "outputs": [
        {
          "output_type": "stream",
          "name": "stdout",
          "text": [
            "Area: 50.26548245743669\n",
            "Perimeter: 25.132741228718345\n"
          ]
        }
      ]
    },
    {
      "cell_type": "code",
      "metadata": {
        "id": "PTovInF0dTsV",
        "colab": {
          "base_uri": "https://localhost:8080/"
        },
        "outputId": "b05d232e-a988-4a1b-b026-6402ff627e49"
      },
      "source": [
        "# Problem 2\n",
        "\n",
        "class teacher:\n",
        "  def __init__(self, name, EMP_ID, branch, salary):\n",
        "    self.name = name\n",
        "    self.salary = salary\n",
        "    self.EMP_ID = EMP_ID\n",
        "    self.branch = branch\n",
        "\n",
        "  def display(self):\n",
        "    print('Name: {}\\nBranch: {}\\nEmployee ID: {}\\nSalary: {}\\n'.format(self.name.title(), self.branch.upper(), self.EMP_ID, self.salary))\n",
        "\n",
        "\n",
        "def take_info():\n",
        "  employee_list = []\n",
        "  print('Please enter name,emp id, branch, salary respectively and seperate using commas')\n",
        "  for i in range(5):\n",
        "    info = input('Details of employee {}: '.format(i+1))\n",
        "    info_list = info.split(',')\n",
        "    employee = teacher(info_list[0], info_list[1], info_list[2], int(info_list[3]))\n",
        "    employee_list.append(employee)\n",
        "\n",
        "  return employee_list\n",
        "\n",
        "def display_info(employee_list):\n",
        "  i = 1\n",
        "  for employee in employee_list:\n",
        "    print(\"Employee %d\" % i)\n",
        "    employee.display()\n",
        "    print()\n",
        "    i += 1\n",
        "\n",
        "emp_list = take_info()\n",
        "print()\n",
        "display_info(emp_list)\n"
      ],
      "execution_count": 1,
      "outputs": [
        {
          "output_type": "stream",
          "name": "stdout",
          "text": [
            "Please enter name,emp id, branch, salary respectively and seperate using commas\n",
            "Details of employee 1: roshan gaikwad,8924,cse,50000\n",
            "Details of employee 2: archit deshmukh,3267,dsai,45000\n",
            "Details of employee 3: anjana dixit,2341,ece,60000\n",
            "Details of employee 4: neha sonawane,4532,cse,55000\n",
            "Details of employee 5: durgaprasad bhat,3295,dsai,70000\n",
            "\n",
            "Employee 1\n",
            "Name: Roshan Gaikwad\n",
            "Branch: CSE\n",
            "Employee ID: 8924\n",
            "Salary: 50000\n",
            "\n",
            "\n",
            "Employee 2\n",
            "Name: Archit Deshmukh\n",
            "Branch: DSAI\n",
            "Employee ID: 3267\n",
            "Salary: 45000\n",
            "\n",
            "\n",
            "Employee 3\n",
            "Name: Anjana Dixit\n",
            "Branch: ECE\n",
            "Employee ID: 2341\n",
            "Salary: 60000\n",
            "\n",
            "\n",
            "Employee 4\n",
            "Name: Neha Sonawane\n",
            "Branch: CSE\n",
            "Employee ID: 4532\n",
            "Salary: 55000\n",
            "\n",
            "\n",
            "Employee 5\n",
            "Name: Durgaprasad Bhat\n",
            "Branch: DSAI\n",
            "Employee ID: 3295\n",
            "Salary: 70000\n",
            "\n",
            "\n"
          ]
        }
      ]
    },
    {
      "cell_type": "code",
      "metadata": {
        "colab": {
          "base_uri": "https://localhost:8080/"
        },
        "id": "3883e9XuqKNO",
        "outputId": "ca302316-aec8-41b9-9e2b-6ba058826cfe"
      },
      "source": [
        "# Problem 3\n",
        "\n",
        "class bank_account:\n",
        "  def __init__(self, name, account_number, amount):\n",
        "    self.name = name\n",
        "    self.account_number = account_number\n",
        "    self.amount = amount\n",
        "\n",
        "  def deposit(self, dep_amount):\n",
        "    self.amount += dep_amount\n",
        "    print(\"%d rupees deposited succesfully.\" % dep_amount)\n",
        "  \n",
        "  def withdraw(self, with_amount):\n",
        "    if self.amount - with_amount >= 0:\n",
        "      self.amount -= with_amount\n",
        "      print(\"%d rupees withdrawn succesfully.\" % with_amount)\n",
        "    else:\n",
        "      print(\"Sufficient amount not present in the account.\")\n",
        "\n",
        "  def check_balance(self):\n",
        "    print(\"The balance in the account is %d rupees.\" % self.amount)\n",
        "\n",
        "  def disp_details(self):\n",
        "    print('Name: {}\\nAccount No: {}\\nAmount: {}'.format(self.name.title(), self.account_number, self.amount))\n",
        "\n",
        "def take_info():\n",
        "  print('Please enter name,account no, amount respectively and seperate using commas')\n",
        "  info = input('Enter the details of account holder: ')\n",
        "  info_list = info.split(',')\n",
        "\n",
        "  return bank_account(info_list[0], info_list[1], int(info_list[2]))\n",
        "\n",
        "account_holder = take_info()\n",
        "print()\n",
        "account_holder.deposit(13000)\n",
        "account_holder.withdraw(16000)\n",
        "account_holder.check_balance()\n",
        "print()\n",
        "account_holder.disp_details()\n",
        "  "
      ],
      "execution_count": null,
      "outputs": [
        {
          "output_type": "stream",
          "name": "stdout",
          "text": [
            "Please enter name,account no, amount respectively and seperate using commas\n",
            "Enter the details of account holder: yash nikam,sbi 234189,28000\n",
            "\n",
            "13000 rupees deposited succesfully.\n",
            "16000 rupees withdrawn succesfully.\n",
            "The balance in the account is 25000 rupees.\n",
            "\n",
            "Name: Yash Nikam\n",
            "Account No: sbi 234189\n",
            "Amount: 25000\n"
          ]
        }
      ]
    },
    {
      "cell_type": "code",
      "metadata": {
        "colab": {
          "base_uri": "https://localhost:8080/"
        },
        "id": "UAjECUxfnC7i",
        "outputId": "f8fb112b-080f-4f9b-e537-e2f35a79ddaa"
      },
      "source": [
        "# Problem 4\n",
        "\n",
        "class student:\n",
        "  def __init__(self, name, usn, marks):\n",
        "    self.name = name\n",
        "    self.usn = usn\n",
        "    self.marks = marks\n",
        "\n",
        "  def display_details(self):\n",
        "    print('Name: {}\\nUSN: {}'.format(self.name.title(), self.usn))\n",
        "    print('Marks:')\n",
        "    i = 1\n",
        "    for mark in self.marks:\n",
        "      print('Subject {}: {}'.format(i,mark))\n",
        "      i += 1\n",
        "\n",
        "def take_info():\n",
        "  print('Please enter name, usn, marks respectively and seperate using commas, seperate marks using colon')\n",
        "  info = input('Enter the student details: ')\n",
        "  info_list = info.split(',')\n",
        "  marks = [float(x) for x in info_list[2].split(';')]\n",
        "\n",
        "  return student(info_list[0], info_list[1], marks)\n",
        "\n",
        "s = take_info()\n",
        "s.display_details()"
      ],
      "execution_count": null,
      "outputs": [
        {
          "output_type": "stream",
          "name": "stdout",
          "text": [
            "Please enter name, usn, marks respectively and seperate using commas, seperate marks using colon\n",
            "Enter the student details: yash nikam,20bcs093,8;9;8\n",
            "Name: Yash Nikam\n",
            "USN: 20bcs093\n",
            "Marks:\n",
            "Subject 1: 8.0\n",
            "Subject 2: 9.0\n",
            "Subject 3: 8.0\n"
          ]
        }
      ]
    },
    {
      "cell_type": "code",
      "metadata": {
        "colab": {
          "base_uri": "https://localhost:8080/"
        },
        "id": "Mk4zCRbcdJyo",
        "outputId": "323054e0-3645-40a1-b45b-4e6723a9b8c9"
      },
      "source": [
        "# Problem 5\n",
        "\n",
        "class patient:\n",
        "  def __init__(self,name,admission_date,symptoms,oxygen_level,discharge_date):\n",
        "    self.name = name\n",
        "    self.admission_date = admission_date\n",
        "    self.discharge_date = discharge_date\n",
        "    self.symptoms = symptoms\n",
        "    self.oxygen_level = oxygen_level\n",
        "\n",
        "  def disp_details(self):\n",
        "    print('Name: {}\\nDate of admission: {}'.format(self.name.title(),self.admission_date))\n",
        "    print('Symptoms: ',end=' ')\n",
        "    for symptom in self.symptoms:\n",
        "      print(symptom,end=',')\n",
        "    print('\\nOxygen level: {}\\nDate of Discharge: {}'.format(self.oxygen_level,self.discharge_date))\n",
        "\n",
        "class hospital:\n",
        "  def __init__(self):\n",
        "    self.oxygen_support = []\n",
        "    self.general_ward = []\n",
        "\n",
        "  def take_info(self):\n",
        "    info = input('Enter the information: ')\n",
        "    info_list = info.split(',')\n",
        "    symptoms = [x for x in info_list[2].split(';')]\n",
        "    if int(info_list[3]) < 90:\n",
        "      self.oxygen_support.append(patient(info_list[0], info_list[1], symptoms, int(info_list[3]), info_list[4]))\n",
        "    else:\n",
        "      self.general_ward.append(patient(info_list[0], info_list[1], symptoms, int(info_list[3]), info_list[4]))\n",
        "\n",
        "  def no_of_patients_os(self):\n",
        "    return len(self.oxygen_support)\n",
        "\n",
        "  def no_of_patients_gw(self):\n",
        "    return len(self.general_ward)\n",
        "  \n",
        "  def total_patients(self):\n",
        "    return len(self.general_ward) + len(self.oxygen_support)\n",
        "\n",
        "  def patient_details(self):\n",
        "    i = 1\n",
        "    print('General Ward Patients')\n",
        "    for person in self.general_ward:\n",
        "      print()\n",
        "      print('Patient %d: ' % i)\n",
        "      person.disp_details()\n",
        "      i += 1\n",
        "    print()\n",
        "    i = 1\n",
        "    print('Oxygen Support Patients')\n",
        "    for person in self.oxygen_support:\n",
        "      print()\n",
        "      print('Patient %d: ' % i)\n",
        "      person.disp_details()\n",
        "      i += 1\n",
        "\n",
        "\n",
        "h = hospital()\n",
        "print('Please enter name, admission_date(dd/mm/yyyy),symptoms,oxygen_level,discharge_date respectively and seperate using commas, seperate symptoms using colon')\n",
        "h.take_info()\n",
        "h.take_info()\n",
        "h.take_info()\n",
        "patients_in_hospital = h.total_patients()\n",
        "patients_in_general_ward = h.no_of_patients_gw()\n",
        "patients_on_oxygen_support = h.no_of_patients_os()\n",
        "print('Number of patients in hospital: %d' % patients_in_hospital)\n",
        "print('Number of patients in general ward: %d' % patients_in_general_ward )\n",
        "print('Number of patients on oxygen support: %d' % patients_on_oxygen_support)\n",
        "print()\n",
        "h.patient_details()\n",
        "\n"
      ],
      "execution_count": null,
      "outputs": [
        {
          "output_type": "stream",
          "name": "stdout",
          "text": [
            "Please enter name, admission_date(dd/mm/yyyy),symptoms,oxygen_level,discharge_date respectively and seperate using commas, seperate symptoms using colon\n",
            "Enter the information: yash nikam,09/09/2021,fever;sore throat;headache,89,NIL\n",
            "Enter the information: rajesh roshan,03/08/2021,chest pains;breathlessness,74,08/09/2021\n",
            "Enter the information: trupti desai,09/09/2021,weakness;nausea;headache,94,10/09/2021\n",
            "Number of patients in hospital: 3\n",
            "Number of patients in general ward: 1\n",
            "Number of patients on oxygen support: 2\n",
            "\n",
            "General Ward Patients\n",
            "\n",
            "Patient 1: \n",
            "Name: Trupti Desai\n",
            "Date of admission: 09/09/2021\n",
            "Symptoms:  weakness,nausea,headache,\n",
            "Oxygen level: 94\n",
            "Date of Discharge: 10/09/2021\n",
            "\n",
            "Oxygen Support Patients\n",
            "\n",
            "Patient 1: \n",
            "Name: Yash Nikam\n",
            "Date of admission: 09/09/2021\n",
            "Symptoms:  fever,sore throat,headache,\n",
            "Oxygen level: 89\n",
            "Date of Discharge: NIL\n",
            "\n",
            "Patient 2: \n",
            "Name: Rajesh Roshan\n",
            "Date of admission: 03/08/2021\n",
            "Symptoms:  chest pains,breathlessness,\n",
            "Oxygen level: 74\n",
            "Date of Discharge: 08/09/2021\n"
          ]
        }
      ]
    },
    {
      "cell_type": "code",
      "metadata": {
        "colab": {
          "base_uri": "https://localhost:8080/"
        },
        "id": "P1lSvT5syCCj",
        "outputId": "13ffe52d-423f-4a1b-f1f4-62680171c1c8"
      },
      "source": [
        "# Problem 6\n",
        "\n",
        "class time:\n",
        "  def __init__(self,hour,minute,second):\n",
        "    self.hour = hour\n",
        "    self.minute = minute\n",
        "    self.second = second\n",
        "\n",
        "  def disp_time(self):\n",
        "    print('Time is %2.0d:%2.0d:%2.0d' % (self.hour,self.minute,self.second))\n",
        "\n",
        "class time_default:\n",
        "  def __init__(self):\n",
        "    self.hour = 0\n",
        "    self.minute = 0\n",
        "    self.second = 0\n",
        "\n",
        "  def disp_time(self):\n",
        "    print('Time is %2.0d:%2.0d:%2.0d' % (self.hour,self.minute,self.second))\n",
        "\n",
        "t = time(13,23,12)\n",
        "t.disp_time()\n",
        "t_d = time_default()\n",
        "t_d.disp_time()"
      ],
      "execution_count": null,
      "outputs": [
        {
          "output_type": "stream",
          "name": "stdout",
          "text": [
            "Time is 13:23:12\n",
            "Time is  0: 0: 0\n"
          ]
        }
      ]
    },
    {
      "cell_type": "code",
      "metadata": {
        "colab": {
          "base_uri": "https://localhost:8080/"
        },
        "id": "MywFL5bJiizs",
        "outputId": "574ab7fc-20b4-43f7-9c72-3953cf9a59da"
      },
      "source": [
        "# Problem 7\n",
        "\n",
        "class students:\n",
        "  class student:\n",
        "    def __init__(self, name, age, rollno):\n",
        "      self.name = name\n",
        "      self.age = age\n",
        "      self.rollno = rollno\n",
        "  s1 = student('Rahul', 21, 33)\n",
        "  s2 = student('Rohit', 22, 74)\n",
        "\n",
        "  def compare_age(self):\n",
        "    if self.s1.age != self.s2.age:\n",
        "      print(f'{self.s1.name} and {self.s2.name} are not of same age.')\n",
        "    else:\n",
        "      print(f'{self.s1.name} and {self.s2.name} are of same age.')\n",
        "\n",
        "\n",
        "s = students()\n",
        "s.compare_age()"
      ],
      "execution_count": null,
      "outputs": [
        {
          "output_type": "stream",
          "name": "stdout",
          "text": [
            "Rahul and Rohit are not of same age.\n"
          ]
        }
      ]
    },
    {
      "cell_type": "code",
      "metadata": {
        "colab": {
          "base_uri": "https://localhost:8080/"
        },
        "id": "j3PAR_asSmwR",
        "outputId": "8bf6eea9-b8fc-4ef0-bd2f-c0559bc85d77"
      },
      "source": [
        "# Problem 8\n",
        "\n",
        "class student:\n",
        "  semester = 3\n",
        "  institute_name = 'IIIT Dharwad'\n",
        "\n",
        "  def __init__(self, name, usn):\n",
        "    self.name = name\n",
        "    self.usn = usn\n",
        "\n",
        "  def student_details(self):\n",
        "    print('Name: {}\\nUSN: {}'.format(self.name.title(), self.usn))\n",
        "\n",
        "  @classmethod\n",
        "  def institute_details(cls):\n",
        "    print('Institute Name: {}\\nSemester: {}'.format(cls.institute_name, cls.semester))\n",
        "\n",
        "  @staticmethod\n",
        "  def class_details():\n",
        "    print('''This class has two class variables and two instance variables.\n",
        "It also contains three methods: instance, class and static methods.\n",
        "The instance method prints out instance variables.\n",
        "The class method prints out the class variables.\n",
        "This static method gives out information regarding the class student''')\n",
        "    \n",
        "s = student('Yash', '20BCS093')\n",
        "print('student_details is a instance method:\\n')\n",
        "s.student_details()\n",
        "print('\\ninstitute_details is a class method:\\n')\n",
        "s.institute_details()\n",
        "print('\\nclass_details is a static method:\\n')\n",
        "s.class_details()"
      ],
      "execution_count": null,
      "outputs": [
        {
          "output_type": "stream",
          "name": "stdout",
          "text": [
            "student_details is a instance method:\n",
            "\n",
            "Name: Yash\n",
            "USN: 20BCS093\n",
            "\n",
            "institute_details is a class method:\n",
            "\n",
            "Institute Name: IIIT Dharwad\n",
            "Semester: 3\n",
            "\n",
            "class_details is a static method:\n",
            "\n",
            "This class has two class variables and two instance variables.\n",
            "It also contains three methods: instance, class and static methods.\n",
            "The instance method prints out instance variables.\n",
            "The class method prints out the class variables.\n",
            "This static method gives out information regarding the class student\n"
          ]
        }
      ]
    },
    {
      "cell_type": "code",
      "metadata": {
        "colab": {
          "base_uri": "https://localhost:8080/"
        },
        "id": "N3Mz7Z_XXmoW",
        "outputId": "479ee17e-9824-435c-f6fb-377032c57136"
      },
      "source": [
        "# Problem 9\n",
        "\n",
        "class student:\n",
        "  class laptop:\n",
        "    def __init__(self, name, ram, display_details):\n",
        "      self.name = name\n",
        "      self.ram = ram\n",
        "      self.display_details = display_details\n",
        "\n",
        "  def __init__(self, Name, Roll_no, Sem, Laptops):\n",
        "    self.Name = Name\n",
        "    self.Roll_no = Roll_no\n",
        "    self.Sem = Sem\n",
        "    self.laptop_list = []\n",
        "    for Laptop in Laptops:\n",
        "      info_list = Laptop.split('@')\n",
        "      create_laptop = self.laptop(info_list[0], info_list[1], info_list[2])\n",
        "      self.laptop_list.append(create_laptop)\n",
        "\n",
        "  def disp_details(self):\n",
        "    print('Name: {}\\nRoll No: {}\\nSemester: {}\\nLaptop details: '.format(self.Name.title(), self.Roll_no, self.Sem))\n",
        "    i = 1\n",
        "    print()\n",
        "    for Laptop in self.laptop_list:\n",
        "      print('Laptop %d' % i)\n",
        "      print(\"Name: {}\\nRAM: {}\\nDisplay details: {}\".format(Laptop.name.title(), Laptop.ram, Laptop.display_details))\n",
        "      print()\n",
        "      i += 1\n",
        "\n",
        "def take_info():\n",
        "  print('Enter name,rollno,semester and laptop details respectively seperated by , Enter individual laptop with each value seperated by @ and each laptop by ;')\n",
        "  info = input('Enter the details: ')\n",
        "  info_list = info.split(',')\n",
        "  laptop_list = info_list[3].split(';')\n",
        "  return student(info_list[0], info_list[1], info_list[2], laptop_list)\n",
        "\n",
        "std = take_info()\n",
        "std.disp_details()\n",
        "    \n",
        "    "
      ],
      "execution_count": 2,
      "outputs": [
        {
          "output_type": "stream",
          "name": "stdout",
          "text": [
            "Enter name,rollno,semester and laptop details respectively seperated by , Enter individual laptop with each value seperated by @ and each laptop by ;\n",
            "Enter the details: yash nikam,20bcs093,3,lenovo legion@8GB@39.62cm;mackbook pro@16GB@13.30 inches\n",
            "Name: Yash Nikam\n",
            "Roll No: 20bcs093\n",
            "Semester: 3\n",
            "Laptop details: \n",
            "\n",
            "Laptop 1\n",
            "Name: Lenovo Legion\n",
            "RAM: 8GB\n",
            "Display details: 39.62cm\n",
            "\n",
            "Laptop 2\n",
            "Name: Mackbook Pro\n",
            "RAM: 16GB\n",
            "Display details: 13.30 inches\n",
            "\n"
          ]
        }
      ]
    }
  ]
}