{
  "nbformat": 4,
  "nbformat_minor": 0,
  "metadata": {
    "colab": {
      "name": "Ameyortosh Michael Roy_20BCS010_OOP Task1.ipynb",
      "provenance": [],
      "authorship_tag": "ABX9TyNeiEEzdZlEs4urIILVBX8Z",
      "include_colab_link": true
    },
    "kernelspec": {
      "name": "python3",
      "display_name": "Python 3"
    },
    "language_info": {
      "name": "python"
    }
  },
  "cells": [
    {
      "cell_type": "markdown",
      "metadata": {
        "id": "view-in-github",
        "colab_type": "text"
      },
      "source": [
        "<a href=\"https://colab.research.google.com/github/ameyotoshmichael/oop/blob/main/Ameyortosh_Michael_Roy_20BCS010_OOP_Task1.ipynb\" target=\"_parent\"><img src=\"https://colab.research.google.com/assets/colab-badge.svg\" alt=\"Open In Colab\"/></a>"
      ]
    },
    {
      "cell_type": "code",
      "metadata": {
        "colab": {
          "base_uri": "https://localhost:8080/",
          "height": 0
        },
        "id": "mmj0XjQNDdu9",
        "outputId": "e50078ff-55dd-4fdd-ca71-1338d0a9ff33"
      },
      "source": [
        "def CheckLeap(Year):\n",
        "    \n",
        "  if((Year % 400 == 0) or  \n",
        "     (Year % 100 != 0) and  \n",
        "     (Year % 4 == 0)):   \n",
        "    print(\"Given Year is a leap Year\");  \n",
        "  \n",
        "  else:  \n",
        "    print (\"Given Year is not a leap Year\")  \n",
        "  \n",
        "Year = int(input(\"Enter the number: \"))  \n",
        "CheckLeap(Year)  "
      ],
      "execution_count": 1,
      "outputs": [
        {
          "output_type": "stream",
          "name": "stdout",
          "text": [
            "Enter the number: 2052\n",
            "Given Year is a leap Year\n"
          ]
        }
      ]
    },
    {
      "cell_type": "code",
      "metadata": {
        "colab": {
          "base_uri": "https://localhost:8080/"
        },
        "id": "wFbzMH0nNtc3",
        "outputId": "a43490fa-4dd5-460a-c4d0-3c03bfd28e87"
      },
      "source": [
        "\n",
        "def isweird(number):\n",
        "  if n % 2 == 1:\n",
        "    print(\"Weird\")\n",
        "  elif n % 2 == 0 and 2 <= n <= 5:\n",
        "    print(\"Not Weird\")\n",
        "  elif n % 2 == 0 and 6 <= n <= 20:\n",
        "    print(\"Weird\")\n",
        "  else:\n",
        "    print(\"Not Weird\")\n",
        "\n",
        "number = int(input(\"Enter the number\"))\n",
        "isweird(number)    "
      ],
      "execution_count": 4,
      "outputs": [
        {
          "output_type": "stream",
          "name": "stdout",
          "text": [
            "Enter the number13\n",
            "Weird\n"
          ]
        }
      ]
    },
    {
      "cell_type": "code",
      "metadata": {
        "colab": {
          "base_uri": "https://localhost:8080/"
        },
        "id": "QYmUmXGj3bfP",
        "outputId": "81b9986d-4d42-48ec-d5a9-93a2829f31a2"
      },
      "source": [
        "def Find_Guest_Fashionably_Late(Guest_List , Guest_Name) :\n",
        "\n",
        "  Count_of_Guests = len(Guest_List)\n",
        "  Half_of_Guest = (Count_of_Guests // 2) + ( 0 if Count_of_Guests % 2 == 0 else 1)\n",
        "  Guest_arrv_pos = Guest_List.index(Guest_Name) + 1\n",
        "\n",
        "  if Guest_arrv_pos > Half_of_Guest and Guest_arrv_pos < Count_of_Guests :\n",
        "    print(\"The Guest , \",Guest_Name , \" is Fashionably Late .\")\n",
        "\n",
        "  else :\n",
        "    print(\"The Guest , \",Guest_Name , \" is Not Fashionably Late .\")\n",
        "\n",
        "\n",
        "print(Find_Guest_Fashionably_Late(['Hardik', 'Rahul', 'Virat', 'Rishabh', 'Mahi', 'Rohit', 'Rahane'], \"Rahane\"))      \n",
        "\n",
        "\n",
        "\n"
      ],
      "execution_count": 12,
      "outputs": [
        {
          "output_type": "stream",
          "name": "stdout",
          "text": [
            "The Guest ,  Rahane  is Not Fashionably Late .\n",
            "None\n"
          ]
        }
      ]
    },
    {
      "cell_type": "code",
      "metadata": {
        "colab": {
          "base_uri": "https://localhost:8080/",
          "height": 0
        },
        "id": "1ABALiLOjiMK",
        "outputId": "fc6ac3bd-824c-4721-af20-6eb19d1ec33f"
      },
      "source": [
        "def word_search(title_list, keyword):\n",
        "  keyword = keyword.lower().strip('.,')\n",
        "  result_list = []\n",
        "  for i, title in enumerate(title_list):\n",
        "    words = title.lower().strip('.,').split()\n",
        "\n",
        "    if keyword in words:\n",
        "      result_list.append((i, title))\n",
        "\n",
        "  return result_list\n",
        "\n",
        "if __name__ == '__main__':\n",
        "  docs = [\n",
        "          'The Learn Python Challenge Rohit',\n",
        "          'They bought a car',\n",
        "          'bangalore',\n",
        "  ]\n",
        "  w = 'bought'\n",
        "\n",
        "  print(word_search(docs, w))\n",
        "\n"
      ],
      "execution_count": 28,
      "outputs": [
        {
          "output_type": "stream",
          "name": "stdout",
          "text": [
            "[(1, 'They bought a car')]\n"
          ]
        }
      ]
    },
    {
      "cell_type": "code",
      "metadata": {
        "colab": {
          "base_uri": "https://localhost:8080/"
        },
        "id": "AAbZ8lneSHT9",
        "outputId": "5eb1b34b-dd0d-4396-c03e-aa9b4eadc413"
      },
      "source": [
        "def cal(bs,da,hra):\n",
        "  gs =bs + da + hra\n",
        "  return gs\n",
        "bs = int(input(\"Enter Basic Salary: \"))\n",
        "da = (bs*40)/100\n",
        "hra = (bs*20)/100\n",
        "print(\"Gross Salary is: \",cal(bs,da,hra))  "
      ],
      "execution_count": 2,
      "outputs": [
        {
          "output_type": "stream",
          "name": "stdout",
          "text": [
            "Enter Basic Salary: 20000\n",
            "Gross Salary is:  32000.0\n"
          ]
        }
      ]
    }
  ]
}